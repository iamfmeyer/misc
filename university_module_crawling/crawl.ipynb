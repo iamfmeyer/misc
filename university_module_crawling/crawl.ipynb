{
 "cells": [
  {
   "cell_type": "code",
   "execution_count": 1,
   "metadata": {},
   "outputs": [],
   "source": [
    "import requests\n",
    "from bs4 import BeautifulSoup\n",
    "import time"
   ]
  },
  {
   "cell_type": "code",
   "execution_count": 2,
   "metadata": {},
   "outputs": [],
   "source": [
    "url_base = \"https://www.fernuni-hagen.de\"\n",
    "url_overview = \"/mi/studium/msc_informatik/module.shtml\""
   ]
  },
  {
   "cell_type": "code",
   "execution_count": 3,
   "metadata": {},
   "outputs": [],
   "source": [
    "response = requests.get(url_base + url_overview)\n",
    "response.raise_for_status()"
   ]
  },
  {
   "cell_type": "code",
   "execution_count": 4,
   "metadata": {},
   "outputs": [],
   "source": [
    "html_context = response.text\n",
    "soup = BeautifulSoup(html_context, \"html.parser\")"
   ]
  },
  {
   "cell_type": "markdown",
   "metadata": {},
   "source": [
    "## Extract modules per catalogue"
   ]
  },
  {
   "cell_type": "code",
   "execution_count": 5,
   "metadata": {},
   "outputs": [
    {
     "name": "stdout",
     "output_type": "stream",
     "text": [
      "<h3>Katalog M: Theoretische Informatik</h3>\n",
      "<h3>Katalog M: Technische Informatik</h3>\n",
      "<h3>Katalog M: Praktische Informatik</h3>\n"
     ]
    }
   ],
   "source": [
    "module_link_dict = {}\n",
    "\n",
    "for h3 in soup.find_all('h3'):\n",
    "    if (\"Katalog B\" in h3.text):\n",
    "        ul_tag = h3.find_next_sibling(\"ul\")\n",
    "        if ul_tag:\n",
    "            li_tags = ul_tag.find_all(\"li\")\n",
    "            if li_tags:\n",
    "                for li_tag in li_tags:\n",
    "                    a_tags = li_tag.find_all(\"a\")\n",
    "\n",
    "                    for a_tag in a_tags:\n",
    "                        href_url = a_tag[\"href\"]\n",
    "                        \n",
    "                        module_link_dict[f\"{h3.text} - {a_tag.text}\"] = href_url\n",
    "    elif (\"Katalog M:\" in h3.text):\n",
    "        print(h3)\n",
    "        ul_tag = h3.find_next_sibling(\"ul\")\n",
    "        if ul_tag:\n",
    "            li_tags = ul_tag.find_all(\"li\")\n",
    "            if li_tags:\n",
    "                for li_tag in li_tags:\n",
    "                    a_tags = li_tag.find_all(\"a\")\n",
    "\n",
    "                    for a_tag in a_tags:\n",
    "                        href_url = a_tag[\"href\"]\n",
    "                        \n",
    "                        module_link_dict[f\"{h3.text} - {a_tag.text}\"] = href_url"
   ]
  },
  {
   "cell_type": "markdown",
   "metadata": {},
   "source": [
    "## Extract relevant data"
   ]
  },
  {
   "cell_type": "code",
   "execution_count": 6,
   "metadata": {},
   "outputs": [],
   "source": [
    "def get_info_module(module, path):\n",
    "    \"\"\"\n",
    "    This function extracts following information for each module:\n",
    "    - Frequency (summer and/ or winter)\n",
    "    - Exam type\n",
    "    - Prerequesites to take the exam\n",
    "    \"\"\"\n",
    "    path = url_base + path\n",
    "    response = requests.get(path)\n",
    "    response.raise_for_status()\n",
    "    html_context = response.text\n",
    "    soup = BeautifulSoup(html_context, \"html.parser\")\n",
    "\n",
    "    info_dict = {}\n",
    "\n",
    "    for th in soup.find_all('th'):\n",
    "        if (\"Häufigkeit des Moduls\" in th):\n",
    "            td_tag = th.find_next_sibling(\"td\")\n",
    "            if td_tag:\n",
    "                #print(th.text, td_tag.text)\n",
    "                info_dict[\"Haeufigkeit\"] = td_tag.text\n",
    "        elif (\"Art der Prüfungsleistung\" in th):\n",
    "            td_tag = th.find_next_sibling(\"td\")\n",
    "            if td_tag:\n",
    "                #print(th.text, td_tag.text)\n",
    "                info_dict[\"Pruefung\"] = td_tag.text\n",
    "        elif (\"Voraussetzung\" in th):\n",
    "            td_tag = th.find_next_sibling(\"td\")\n",
    "            if td_tag:\n",
    "                #print(th.text, td_tag.text)\n",
    "                info_dict[\"Voraussetzung\"] = td_tag.text\n",
    "    return info_dict"
   ]
  },
  {
   "cell_type": "code",
   "execution_count": 7,
   "metadata": {},
   "outputs": [
    {
     "name": "stdout",
     "output_type": "stream",
     "text": [
      "Katalog B - 61412 Lineare Optimierung DONE\n",
      "--\n",
      "Katalog B - 63112 Übersetzerbau DONE\n",
      "--\n",
      "Katalog B - 63117 Data Mining DONE\n",
      "--\n",
      "Katalog B - 63122 Architektur und Implementierung von Datenbanksystemen DONE\n",
      "--\n",
      "Katalog B - 63211 Verteilte Systeme DONE\n",
      "--\n",
      "Katalog B - 63311 Einführung in Mensch-Computer-Interaktion DONE\n",
      "--\n",
      "Katalog B - 63312 Interaktive Systeme DONE\n",
      "--\n",
      "Katalog B - 63514 Simulation DONE\n",
      "--\n",
      "Katalog B - 63711 Anwendungsorientierte Mikroprozessoren DONE\n",
      "--\n",
      "Katalog B - 63712 Parallel Programming DONE\n",
      "--\n",
      "Katalog B - 64111 Betriebliche Informationssysteme DONE\n",
      "--\n",
      "Katalog B - 64112 Entscheidungsmethoden in unternehmensweiten Softwaresystemen DONE\n",
      "--\n",
      "Katalog B - 64211 Wissensbasierte Systeme DONE\n",
      "--\n",
      "Katalog B - 64313 Mobile Security DONE\n",
      "--\n",
      "Katalog M: Theoretische Informatik - 61115 Mathematische Grundlagen der Kryptografie DONE\n",
      "--\n",
      "Katalog M: Theoretische Informatik - 61414 Effiziente Graphenalgorithmen DONE\n",
      "--\n",
      "Katalog M: Theoretische Informatik - 63213 Algorithmische Geometrie DONE\n",
      "--\n",
      "Katalog M: Theoretische Informatik - 63914 Komplexitätstheorie DONE\n",
      "--\n",
      "Katalog M: Theoretische Informatik - 63916 Effiziente Algorithmen DONE\n",
      "--\n",
      "Katalog M: Technische Informatik - 63212 Betriebssysteme DONE\n",
      "--\n",
      "Katalog M: Technische Informatik - 63515 Information Hiding DONE\n",
      "--\n",
      "Katalog M: Technische Informatik - 63516 Software-Sicherheit und IT-Forensik DONE\n",
      "--\n",
      "Katalog M: Technische Informatik - 63713 Virtuelle Maschinen DONE\n",
      "--\n",
      "Katalog M: Technische Informatik - 63714 Advanced Parallel Computing DONE\n",
      "--\n",
      "Katalog M: Technische Informatik - 64311 Kommunikations- und Rechnernetze DONE\n",
      "--\n",
      "Katalog M: Praktische Informatik - 63123 Data Engineering für Data Science DONE\n",
      "--\n",
      "Katalog M: Praktische Informatik - 63214 Computerunterstütztes kooperatives Arbeiten und Lernen DONE\n",
      "--\n",
      "Katalog M: Praktische Informatik - 63215 Gestaltung Kooperativer Systeme DONE\n",
      "--\n",
      "Katalog M: Praktische Informatik - 63612 Objektorientierte Programmierung DONE\n",
      "--\n",
      "Katalog M: Praktische Informatik - 63412 Informationsvisualisierung im Internet DONE\n",
      "--\n",
      "Katalog M: Praktische Informatik - 63613 Moderne Programmiertechniken und -methoden DONE\n",
      "--\n",
      "Katalog M: Praktische Informatik - 63413 Dokumenten- und Wissensmanagement im Internet DONE\n",
      "--\n",
      "Katalog M: Praktische Informatik - 63414 Multimediainformationssysteme DONE\n",
      "--\n",
      "Katalog M: Praktische Informatik - 63415 Information Retrieval DONE\n",
      "--\n",
      "Katalog M: Praktische Informatik - 63416 Intelligente Informationssysteme für industrielle Anwendungen DONE\n",
      "--\n",
      "Katalog M: Praktische Informatik - 64212 Deduktions- und Inferenzsysteme DONE\n",
      "--\n",
      "Katalog M: Praktische Informatik - 64214 Methoden der Wissensrepräsentation und -verarbeitung DONE\n",
      "--\n"
     ]
    }
   ],
   "source": [
    "moduls_dict = {}\n",
    "\n",
    "for module, path in module_link_dict.items():\n",
    "    moduls_dict[module] = get_info_module(module, path)\n",
    "    print(f\"{module} DONE\")\n",
    "    print(\"--\")\n",
    "    time.sleep(1)"
   ]
  },
  {
   "cell_type": "code",
   "execution_count": 8,
   "metadata": {},
   "outputs": [
    {
     "name": "stdout",
     "output_type": "stream",
     "text": [
      "Katalog B - 61412 Lineare Optimierung {'Haeufigkeit': 'in jedem Sommersemester', 'Pruefung': 'benotete mündliche Prüfung', 'Voraussetzung': 'keine'}\n",
      "Katalog B - 63112 Übersetzerbau {'Haeufigkeit': 'in jedem Wintersemester', 'Pruefung': 'benotete mündliche Prüfung', 'Voraussetzung': 'keine'}\n",
      "Katalog B - 63117 Data Mining {'Haeufigkeit': 'in jedem Semester', 'Pruefung': 'benotete Prüfungsklausur', 'Voraussetzung': 'keine'}\n",
      "Katalog B - 63122 Architektur und Implementierung von Datenbanksystemen {'Haeufigkeit': 'in jedem Sommersemester', 'Pruefung': 'benotete mündliche Prüfung', 'Voraussetzung': 'keine'}\n",
      "Katalog B - 63211 Verteilte Systeme {'Haeufigkeit': 'in jedem Wintersemester', 'Pruefung': 's. Anmerkung', 'Voraussetzung': 'keine'}\n",
      "Katalog B - 63311 Einführung in Mensch-Computer-Interaktion {'Haeufigkeit': 'in jedem Semester', 'Pruefung': 'benotete Prüfungsklausur', 'Voraussetzung': 'Als Zulassungsvoraussetzung für die Modulprüfungsklausur müssen bei 6 von 7 Kurseinheiten 75% der Einsendeaufgaben erfolgreich bearbeitet werden. Bei einer weiteren Kurseinheit reicht es aus, mehr als 50% der Punkte zu erzielen.'}\n",
      "Katalog B - 63312 Interaktive Systeme {'Haeufigkeit': 'in jedem Semester', 'Pruefung': 'benotete Prüfungsklausur', 'Voraussetzung': 'Als Zulassungsvoraussetzung für die Klausur müssen in beiden Kursen bei jeweils 3 von 4 Kurseinheiten 75% der Einsendeaufgaben erfolgreich bearbeitet werden. Bei jeweils einer weiteren Kurseinheit reicht es aus, mehr als 50% der Punkte zu erzielen.'}\n",
      "Katalog B - 63514 Simulation {'Haeufigkeit': 'in jedem Sommersemester', 'Pruefung': 'benotete mündliche Prüfung', 'Voraussetzung': 'keine'}\n",
      "Katalog B - 63711 Anwendungsorientierte Mikroprozessoren {'Haeufigkeit': 'in jedem Wintersemester', 'Pruefung': 'benotete mündliche Prüfung', 'Voraussetzung': 'keine'}\n",
      "Katalog B - 63712 Parallel Programming {'Haeufigkeit': 'in jedem Wintersemester', 'Pruefung': 'benotete mündliche Prüfung', 'Voraussetzung': 'keine'}\n",
      "Katalog B - 64111 Betriebliche Informationssysteme {'Haeufigkeit': 'in jedem Semester', 'Pruefung': 'benotete Prüfungsklausur', 'Voraussetzung': 'Eine Zulassung zur Klausur erfolgt, wenn insgesamt mindestens 50 % der möglichen Punkte der Einsendeaufgaben in zwei vom Lehrgebiet festgelegten Einsendeaufgaben erreicht wurden.'}\n",
      "Katalog B - 64112 Entscheidungsmethoden in unternehmensweiten Softwaresystemen {'Haeufigkeit': 'in jedem Sommersemester', 'Pruefung': 'benotete Prüfungsklausur', 'Voraussetzung': 'Eine Zulassung zur Klausur erfolgt, wenn insgesamt mindestens 50 % der möglichen Punkte der Einsendeaufgaben in zwei vom Lehrgebiet festgelegten Einsendeaufgaben erreicht wurden.'}\n",
      "Katalog B - 64211 Wissensbasierte Systeme {'Haeufigkeit': 'in jedem Wintersemester', 'Pruefung': 'benotete Prüfungsklausur', 'Voraussetzung': 'keine'}\n",
      "Katalog B - 64313 Mobile Security {'Haeufigkeit': 'in jedem Semester', 'Pruefung': 'benotete Prüfungsklausur', 'Voraussetzung': 'keine'}\n",
      "Katalog M: Theoretische Informatik - 61115 Mathematische Grundlagen der Kryptografie {'Haeufigkeit': 'in jedem Wintersemester', 'Pruefung': 'benotete mündliche Prüfung', 'Voraussetzung': 'keine'}\n",
      "Katalog M: Theoretische Informatik - 61414 Effiziente Graphenalgorithmen {'Haeufigkeit': 'in jedem Wintersemester', 'Pruefung': 'benotete mündliche Prüfung', 'Voraussetzung': 'keine'}\n",
      "Katalog M: Theoretische Informatik - 63213 Algorithmische Geometrie {'Haeufigkeit': 'in jedem Sommersemester', 'Pruefung': 'benotete mündliche Prüfung', 'Voraussetzung': 'keine'}\n",
      "Katalog M: Theoretische Informatik - 63914 Komplexitätstheorie {'Haeufigkeit': 'in jedem Wintersemester', 'Pruefung': 'benotete mündliche Prüfung', 'Voraussetzung': 'keine'}\n",
      "Katalog M: Theoretische Informatik - 63916 Effiziente Algorithmen {'Haeufigkeit': 'in jedem Sommersemester', 'Pruefung': 'benotete mündliche Prüfung', 'Voraussetzung': 'keine'}\n",
      "Katalog M: Technische Informatik - 63212 Betriebssysteme {'Haeufigkeit': 'in jedem Sommersemester', 'Pruefung': 'benotete mündliche Prüfung', 'Voraussetzung': 'keine'}\n",
      "Katalog M: Technische Informatik - 63515 Information Hiding {'Haeufigkeit': 'in jedem Wintersemester', 'Pruefung': 'benotete mündliche Prüfung', 'Voraussetzung': 'keine'}\n",
      "Katalog M: Technische Informatik - 63516 Software-Sicherheit und IT-Forensik {'Haeufigkeit': 'in jedem Sommersemester', 'Pruefung': 'benotete Prüfungsklausur', 'Voraussetzung': '\\xa0'}\n",
      "Katalog M: Technische Informatik - 63713 Virtuelle Maschinen {'Haeufigkeit': 'in jedem Wintersemester', 'Pruefung': 'benotete mündliche Prüfung', 'Voraussetzung': 'keine'}\n",
      "Katalog M: Technische Informatik - 63714 Advanced Parallel Computing {'Haeufigkeit': 'in jedem Sommersemester', 'Pruefung': 'benotete mündliche Prüfung', 'Voraussetzung': 'keine'}\n",
      "Katalog M: Technische Informatik - 64311 Kommunikations- und Rechnernetze {'Haeufigkeit': 'in jedem Semester', 'Pruefung': 'benotete Prüfungsklausur', 'Voraussetzung': 'keine'}\n",
      "Katalog M: Praktische Informatik - 63123 Data Engineering für Data Science {'Haeufigkeit': 'in jedem Semester', 'Pruefung': 'benotete Prüfungsklausur', 'Voraussetzung': 'Von den Einsendeaufgaben zu den Kurseinheiten 2-5 müssen mindestens die Einsendeaufgaben zu einer Kurseinheit bestanden sein.'}\n",
      "Katalog M: Praktische Informatik - 63214 Computerunterstütztes kooperatives Arbeiten und Lernen {'Haeufigkeit': 'in jedem Sommersemester', 'Pruefung': 'benotete mündliche Prüfung', 'Voraussetzung': 'keine'}\n",
      "Katalog M: Praktische Informatik - 63215 Gestaltung Kooperativer Systeme {'Haeufigkeit': 'in jedem Wintersemester', 'Pruefung': 'benotete mündliche Prüfung', 'Voraussetzung': 'keine'}\n",
      "Katalog M: Praktische Informatik - 63612 Objektorientierte Programmierung {'Haeufigkeit': 'in jedem Sommersemester', 'Pruefung': 'benotete mündliche Prüfung', 'Voraussetzung': 'keine'}\n",
      "Katalog M: Praktische Informatik - 63412 Informationsvisualisierung im Internet {'Haeufigkeit': 'in jedem Sommersemester', 'Pruefung': 'benotete Prüfungsklausur', 'Voraussetzung': 'Die Zulassung zur Klausur kann nur erfolgen, wenn bei 5 von 7 Kurseinheiten mindestens 50 % der möglichen Punkte in den Einsendeaufgaben erreicht wurden.'}\n",
      "Katalog M: Praktische Informatik - 63613 Moderne Programmiertechniken und -methoden {'Haeufigkeit': 'in jedem Semester', 'Pruefung': 'benotete Prüfungsklausur', 'Voraussetzung': 'Eine Zulassung zur Klausur erfolgt, wenn in 5 von 7 Einsendeaufgaben mindestens ein Punkt erreicht wurde.'}\n",
      "Katalog M: Praktische Informatik - 63413 Dokumenten- und Wissensmanagement im Internet {'Haeufigkeit': 'in jedem Semester', 'Pruefung': 'benotete Prüfungsklausur', 'Voraussetzung': 'Die Zulassung zur Klausur kann nur erfolgen, wenn bei 5 von 7 Kurseinheiten mindestens 50 % der möglichen Punkte in den Einsendeaufgaben erreicht wurden.'}\n",
      "Katalog M: Praktische Informatik - 63414 Multimediainformationssysteme {'Haeufigkeit': 'in jedem Wintersemester', 'Pruefung': 'benotete Prüfungsklausur', 'Voraussetzung': 'Die Zulassung zur Klausur kann nur erfolgen, wenn bei 5 von 7 Kurseinheiten mindestens 50 % der möglichen Punkte in den Einsendeaufgaben erreicht wurden.'}\n",
      "Katalog M: Praktische Informatik - 63415 Information Retrieval {'Haeufigkeit': 'in jedem Wintersemester', 'Pruefung': 'benotete Prüfungsklausur', 'Voraussetzung': 'Für die Teilnahme an der Klausur müssen 5 von 7 Einsendeaufgaben bestanden werden.'}\n",
      "Katalog M: Praktische Informatik - 63416 Intelligente Informationssysteme für industrielle Anwendungen {'Haeufigkeit': 'in jedem Semester', 'Pruefung': 'benotete Prüfungsklausur', 'Voraussetzung': 'Die Zulassung zur Klausur kann nur erfolgen, wenn bei 5 von 7 Kurseinheiten mindestens 50 % der möglichen Punkte in den Einsendeaufgaben erreicht wurden.'}\n",
      "Katalog M: Praktische Informatik - 64212 Deduktions- und Inferenzsysteme {'Haeufigkeit': 'in jedem Wintersemester', 'Pruefung': 'benotete mündliche Prüfung', 'Voraussetzung': 'keine'}\n",
      "Katalog M: Praktische Informatik - 64214 Methoden der Wissensrepräsentation und -verarbeitung {'Haeufigkeit': 'in jedem Sommersemester', 'Pruefung': 'benotete Prüfungsklausur', 'Voraussetzung': 'keine'}\n"
     ]
    }
   ],
   "source": [
    "for k, v in moduls_dict.items():\n",
    "    print(k, v)"
   ]
  },
  {
   "cell_type": "markdown",
   "metadata": {},
   "source": [
    "## Save data"
   ]
  },
  {
   "cell_type": "code",
   "execution_count": 11,
   "metadata": {},
   "outputs": [],
   "source": [
    "import pandas as pd\n",
    "\n",
    "\n",
    "data = []\n",
    "\n",
    "for modul, attributes in moduls_dict.items():\n",
    "    lst = modul.split(\"-\")\n",
    "    mod = lst[1].strip()\n",
    "    kat = lst[0].strip()\n",
    "    \n",
    "    row = {'Modul': mod, 'Katalog': kat}\n",
    "    row.update(attributes)\n",
    "    data.append(row)\n",
    "\n",
    "# Create Dataframe\n",
    "df = pd.DataFrame(data)"
   ]
  },
  {
   "cell_type": "code",
   "execution_count": 12,
   "metadata": {},
   "outputs": [
    {
     "data": {
      "text/html": [
       "<div>\n",
       "<style scoped>\n",
       "    .dataframe tbody tr th:only-of-type {\n",
       "        vertical-align: middle;\n",
       "    }\n",
       "\n",
       "    .dataframe tbody tr th {\n",
       "        vertical-align: top;\n",
       "    }\n",
       "\n",
       "    .dataframe thead th {\n",
       "        text-align: right;\n",
       "    }\n",
       "</style>\n",
       "<table border=\"1\" class=\"dataframe\">\n",
       "  <thead>\n",
       "    <tr style=\"text-align: right;\">\n",
       "      <th></th>\n",
       "      <th>Modul</th>\n",
       "      <th>Katalog</th>\n",
       "      <th>Haeufigkeit</th>\n",
       "      <th>Pruefung</th>\n",
       "      <th>Voraussetzung</th>\n",
       "    </tr>\n",
       "  </thead>\n",
       "  <tbody>\n",
       "    <tr>\n",
       "      <th>0</th>\n",
       "      <td>61412 Lineare Optimierung</td>\n",
       "      <td>Katalog B</td>\n",
       "      <td>in jedem Sommersemester</td>\n",
       "      <td>benotete mündliche Prüfung</td>\n",
       "      <td>keine</td>\n",
       "    </tr>\n",
       "    <tr>\n",
       "      <th>1</th>\n",
       "      <td>63112 Übersetzerbau</td>\n",
       "      <td>Katalog B</td>\n",
       "      <td>in jedem Wintersemester</td>\n",
       "      <td>benotete mündliche Prüfung</td>\n",
       "      <td>keine</td>\n",
       "    </tr>\n",
       "    <tr>\n",
       "      <th>2</th>\n",
       "      <td>63117 Data Mining</td>\n",
       "      <td>Katalog B</td>\n",
       "      <td>in jedem Semester</td>\n",
       "      <td>benotete Prüfungsklausur</td>\n",
       "      <td>keine</td>\n",
       "    </tr>\n",
       "    <tr>\n",
       "      <th>3</th>\n",
       "      <td>63122 Architektur und Implementierung von Date...</td>\n",
       "      <td>Katalog B</td>\n",
       "      <td>in jedem Sommersemester</td>\n",
       "      <td>benotete mündliche Prüfung</td>\n",
       "      <td>keine</td>\n",
       "    </tr>\n",
       "    <tr>\n",
       "      <th>4</th>\n",
       "      <td>63211 Verteilte Systeme</td>\n",
       "      <td>Katalog B</td>\n",
       "      <td>in jedem Wintersemester</td>\n",
       "      <td>s. Anmerkung</td>\n",
       "      <td>keine</td>\n",
       "    </tr>\n",
       "  </tbody>\n",
       "</table>\n",
       "</div>"
      ],
      "text/plain": [
       "                                               Modul    Katalog  \\\n",
       "0                          61412 Lineare Optimierung  Katalog B   \n",
       "1                                63112 Übersetzerbau  Katalog B   \n",
       "2                                  63117 Data Mining  Katalog B   \n",
       "3  63122 Architektur und Implementierung von Date...  Katalog B   \n",
       "4                            63211 Verteilte Systeme  Katalog B   \n",
       "\n",
       "               Haeufigkeit                    Pruefung Voraussetzung  \n",
       "0  in jedem Sommersemester  benotete mündliche Prüfung         keine  \n",
       "1  in jedem Wintersemester  benotete mündliche Prüfung         keine  \n",
       "2        in jedem Semester    benotete Prüfungsklausur         keine  \n",
       "3  in jedem Sommersemester  benotete mündliche Prüfung         keine  \n",
       "4  in jedem Wintersemester                s. Anmerkung         keine  "
      ]
     },
     "execution_count": 12,
     "metadata": {},
     "output_type": "execute_result"
    }
   ],
   "source": [
    "df.head()"
   ]
  },
  {
   "cell_type": "code",
   "execution_count": null,
   "metadata": {},
   "outputs": [],
   "source": [
    "# Save Dataframe to csv / excel\n",
    "\n",
    "df.to_csv(\"Module_Uebersicht.csv\")\n",
    "# df.to_excel(\"Module_Uebersicht.xlsx\", index=False)"
   ]
  },
  {
   "cell_type": "code",
   "execution_count": null,
   "metadata": {},
   "outputs": [],
   "source": [
    "# Read csv (if no need to update data from Website)\n",
    "\n",
    "\"\"\"\n",
    "df = pd.read_csv(\"Module_Uebersicht.csv\", index_col=False)\n",
    "\n",
    "\"\"\""
   ]
  },
  {
   "cell_type": "code",
   "execution_count": null,
   "metadata": {},
   "outputs": [],
   "source": []
  }
 ],
 "metadata": {
  "kernelspec": {
   "display_name": "Data",
   "language": "python",
   "name": "python3"
  },
  "language_info": {
   "codemirror_mode": {
    "name": "ipython",
    "version": 3
   },
   "file_extension": ".py",
   "mimetype": "text/x-python",
   "name": "python",
   "nbconvert_exporter": "python",
   "pygments_lexer": "ipython3",
   "version": "3.11.6"
  }
 },
 "nbformat": 4,
 "nbformat_minor": 2
}
